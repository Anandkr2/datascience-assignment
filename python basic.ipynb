{
 "cells": [
  {
   "cell_type": "code",
   "execution_count": 2,
   "id": "f159da54-4f9a-4ed6-b082-9c4e2ac6f047",
   "metadata": {},
   "outputs": [],
   "source": [
    "a=4"
   ]
  },
  {
   "cell_type": "code",
   "execution_count": 3,
   "id": "c138f890-3aaa-44fa-b539-7d95ee2d3e6b",
   "metadata": {},
   "outputs": [
    {
     "data": {
      "text/plain": [
       "4"
      ]
     },
     "execution_count": 3,
     "metadata": {},
     "output_type": "execute_result"
    }
   ],
   "source": [
    "a"
   ]
  },
  {
   "cell_type": "code",
   "execution_count": 6,
   "id": "60e908b1-ab44-443b-93c7-643374b1988a",
   "metadata": {},
   "outputs": [],
   "source": [
    "a='sudh'"
   ]
  },
  {
   "cell_type": "code",
   "execution_count": 7,
   "id": "367e7c6a-5ea4-4188-81b6-e3891d620082",
   "metadata": {},
   "outputs": [
    {
     "data": {
      "text/plain": [
       "'sudh'"
      ]
     },
     "execution_count": 7,
     "metadata": {},
     "output_type": "execute_result"
    }
   ],
   "source": [
    "a"
   ]
  },
  {
   "cell_type": "code",
   "execution_count": 8,
   "id": "8e61f59c-e701-49e3-b383-af22dd5ae4d5",
   "metadata": {},
   "outputs": [],
   "source": [
    "r='fjfh'"
   ]
  },
  {
   "cell_type": "code",
   "execution_count": 9,
   "id": "726277ec-9f02-45bc-9fe6-33c8251a04e6",
   "metadata": {},
   "outputs": [
    {
     "data": {
      "text/plain": [
       "'fjfh'"
      ]
     },
     "execution_count": 9,
     "metadata": {},
     "output_type": "execute_result"
    }
   ],
   "source": [
    "r"
   ]
  },
  {
   "cell_type": "code",
   "execution_count": 10,
   "id": "f7ad7177-05dc-42e3-86be-f2e73288a3f4",
   "metadata": {},
   "outputs": [
    {
     "data": {
      "text/plain": [
       "str"
      ]
     },
     "execution_count": 10,
     "metadata": {},
     "output_type": "execute_result"
    }
   ],
   "source": [
    "type(r)"
   ]
  },
  {
   "cell_type": "code",
   "execution_count": 11,
   "id": "6951d852-1292-4f04-a6bc-b8213f3a7c29",
   "metadata": {},
   "outputs": [
    {
     "data": {
      "text/plain": [
       "str"
      ]
     },
     "execution_count": 11,
     "metadata": {},
     "output_type": "execute_result"
    }
   ],
   "source": [
    "type(a)"
   ]
  },
  {
   "cell_type": "code",
   "execution_count": 12,
   "id": "8289fccc-3f89-4391-8f90-a0d016bab3b3",
   "metadata": {},
   "outputs": [],
   "source": [
    "a=7"
   ]
  },
  {
   "cell_type": "code",
   "execution_count": 13,
   "id": "b6ef6aa4-e55c-4775-be70-099259e49167",
   "metadata": {},
   "outputs": [
    {
     "data": {
      "text/plain": [
       "int"
      ]
     },
     "execution_count": 13,
     "metadata": {},
     "output_type": "execute_result"
    }
   ],
   "source": [
    "type(a)"
   ]
  },
  {
   "cell_type": "code",
   "execution_count": 14,
   "id": "c0c8997b-c383-4a26-a315-fc44850f65f5",
   "metadata": {},
   "outputs": [
    {
     "data": {
      "text/plain": [
       "7"
      ]
     },
     "execution_count": 14,
     "metadata": {},
     "output_type": "execute_result"
    }
   ],
   "source": [
    "a"
   ]
  },
  {
   "cell_type": "code",
   "execution_count": 15,
   "id": "0f258b25-66f6-484f-8482-0bc8f943470c",
   "metadata": {},
   "outputs": [],
   "source": [
    "a=8"
   ]
  },
  {
   "cell_type": "code",
   "execution_count": 16,
   "id": "16597baa-0fea-472d-ba5c-d0b140036221",
   "metadata": {},
   "outputs": [],
   "source": [
    "anand=76"
   ]
  },
  {
   "cell_type": "code",
   "execution_count": 17,
   "id": "b999ad82-e01b-4c84-a780-dd5a1e2847a8",
   "metadata": {},
   "outputs": [
    {
     "data": {
      "text/plain": [
       "84"
      ]
     },
     "execution_count": 17,
     "metadata": {},
     "output_type": "execute_result"
    }
   ],
   "source": [
    "a+anand"
   ]
  },
  {
   "cell_type": "code",
   "execution_count": 18,
   "id": "20528164-a63e-4338-a4f4-96dc774698ff",
   "metadata": {},
   "outputs": [
    {
     "data": {
      "text/plain": [
       "int"
      ]
     },
     "execution_count": 18,
     "metadata": {},
     "output_type": "execute_result"
    }
   ],
   "source": [
    "type(a+anand)"
   ]
  },
  {
   "cell_type": "code",
   "execution_count": 19,
   "id": "f568d555-5fac-43e9-830f-026a439f071b",
   "metadata": {},
   "outputs": [],
   "source": [
    "d = \"anand\""
   ]
  },
  {
   "cell_type": "code",
   "execution_count": 20,
   "id": "ac3cb4be-094f-4f8c-be0b-25f66ce20f72",
   "metadata": {},
   "outputs": [
    {
     "data": {
      "text/plain": [
       "str"
      ]
     },
     "execution_count": 20,
     "metadata": {},
     "output_type": "execute_result"
    }
   ],
   "source": [
    "type(d)"
   ]
  },
  {
   "cell_type": "code",
   "execution_count": 21,
   "id": "537e7259-2af1-4995-97cc-8197d5e7786c",
   "metadata": {},
   "outputs": [
    {
     "data": {
      "text/plain": [
       "'anand'"
      ]
     },
     "execution_count": 21,
     "metadata": {},
     "output_type": "execute_result"
    }
   ],
   "source": [
    "d"
   ]
  },
  {
   "cell_type": "code",
   "execution_count": 22,
   "id": "8c8b19a3-d25e-4c23-9907-186496ff7292",
   "metadata": {},
   "outputs": [],
   "source": [
    "e = 'this is my first tech class'"
   ]
  },
  {
   "cell_type": "code",
   "execution_count": 23,
   "id": "aa8ebfc2-a26e-47cc-9a73-00d64cf0c381",
   "metadata": {},
   "outputs": [
    {
     "data": {
      "text/plain": [
       "str"
      ]
     },
     "execution_count": 23,
     "metadata": {},
     "output_type": "execute_result"
    }
   ],
   "source": [
    "type(e)"
   ]
  },
  {
   "cell_type": "code",
   "execution_count": 24,
   "id": "383696f4-7500-4f11-90ce-e0f1e3764769",
   "metadata": {},
   "outputs": [],
   "source": [
    "c = 45.56"
   ]
  },
  {
   "cell_type": "code",
   "execution_count": 25,
   "id": "4882c3d1-a235-46f3-b654-4ddeae2b157a",
   "metadata": {},
   "outputs": [
    {
     "data": {
      "text/plain": [
       "45.56"
      ]
     },
     "execution_count": 25,
     "metadata": {},
     "output_type": "execute_result"
    }
   ],
   "source": [
    "c"
   ]
  },
  {
   "cell_type": "code",
   "execution_count": 26,
   "id": "7979beb2-d9ff-49c7-bbfe-6ce3d4a56726",
   "metadata": {},
   "outputs": [
    {
     "data": {
      "text/plain": [
       "float"
      ]
     },
     "execution_count": 26,
     "metadata": {},
     "output_type": "execute_result"
    }
   ],
   "source": [
    "type(c)"
   ]
  },
  {
   "cell_type": "code",
   "execution_count": 27,
   "id": "ff2f0710-f335-46d9-92fa-6f49c0f67869",
   "metadata": {},
   "outputs": [],
   "source": [
    "s = True"
   ]
  },
  {
   "cell_type": "code",
   "execution_count": 28,
   "id": "0c68007b-a49b-4469-933f-6e9fe35a8d98",
   "metadata": {},
   "outputs": [
    {
     "data": {
      "text/plain": [
       "True"
      ]
     },
     "execution_count": 28,
     "metadata": {},
     "output_type": "execute_result"
    }
   ],
   "source": [
    "s"
   ]
  },
  {
   "cell_type": "code",
   "execution_count": 29,
   "id": "20c8d2b8-8cd8-46eb-a61a-563e223ac6cb",
   "metadata": {},
   "outputs": [
    {
     "data": {
      "text/plain": [
       "bool"
      ]
     },
     "execution_count": 29,
     "metadata": {},
     "output_type": "execute_result"
    }
   ],
   "source": [
    "type(s)"
   ]
  },
  {
   "cell_type": "code",
   "execution_count": 30,
   "id": "b31ab785-5283-4241-8f18-4651fde4a2a7",
   "metadata": {},
   "outputs": [],
   "source": [
    "g = False"
   ]
  },
  {
   "cell_type": "code",
   "execution_count": 31,
   "id": "3538edfa-3b2f-4ebf-93f5-8a82dca8e603",
   "metadata": {},
   "outputs": [
    {
     "data": {
      "text/plain": [
       "False"
      ]
     },
     "execution_count": 31,
     "metadata": {},
     "output_type": "execute_result"
    }
   ],
   "source": [
    "g"
   ]
  },
  {
   "cell_type": "code",
   "execution_count": 32,
   "id": "4283f694-5d32-4841-b21c-3e4aab20e121",
   "metadata": {},
   "outputs": [
    {
     "data": {
      "text/plain": [
       "bool"
      ]
     },
     "execution_count": 32,
     "metadata": {},
     "output_type": "execute_result"
    }
   ],
   "source": [
    "type(g)"
   ]
  },
  {
   "cell_type": "code",
   "execution_count": 33,
   "id": "71634c4a-4f92-40c6-b525-012998a5f7da",
   "metadata": {},
   "outputs": [
    {
     "data": {
      "text/plain": [
       "1"
      ]
     },
     "execution_count": 33,
     "metadata": {},
     "output_type": "execute_result"
    }
   ],
   "source": [
    "s + g"
   ]
  },
  {
   "cell_type": "code",
   "execution_count": 34,
   "id": "1fc43e74-5eaa-4cdb-921b-aefed51022ca",
   "metadata": {},
   "outputs": [
    {
     "data": {
      "text/plain": [
       "int"
      ]
     },
     "execution_count": 34,
     "metadata": {},
     "output_type": "execute_result"
    }
   ],
   "source": [
    "type(s + g)"
   ]
  },
  {
   "cell_type": "code",
   "execution_count": 35,
   "id": "f27bd599-d413-430e-88b3-f53cb5de3b80",
   "metadata": {},
   "outputs": [
    {
     "data": {
      "text/plain": [
       "1"
      ]
     },
     "execution_count": 35,
     "metadata": {},
     "output_type": "execute_result"
    }
   ],
   "source": [
    "True * True"
   ]
  },
  {
   "cell_type": "code",
   "execution_count": 36,
   "id": "ba4032d3-eb6e-4eaf-97cf-784312e5a5e0",
   "metadata": {},
   "outputs": [
    {
     "data": {
      "text/plain": [
       "0"
      ]
     },
     "execution_count": 36,
     "metadata": {},
     "output_type": "execute_result"
    }
   ],
   "source": [
    "True*False"
   ]
  },
  {
   "cell_type": "code",
   "execution_count": 37,
   "id": "f1935650-67ea-4d9e-818a-aaa0477e092e",
   "metadata": {},
   "outputs": [
    {
     "data": {
      "text/plain": [
       "1"
      ]
     },
     "execution_count": 37,
     "metadata": {},
     "output_type": "execute_result"
    }
   ],
   "source": [
    "True+False"
   ]
  },
  {
   "cell_type": "code",
   "execution_count": 38,
   "id": "b42a7209-880b-4c07-94b1-52196ea086b9",
   "metadata": {},
   "outputs": [
    {
     "data": {
      "text/plain": [
       "1"
      ]
     },
     "execution_count": 38,
     "metadata": {},
     "output_type": "execute_result"
    }
   ],
   "source": [
    "True-False"
   ]
  },
  {
   "cell_type": "code",
   "execution_count": 39,
   "id": "953ed689-e506-4bea-aace-3429988937ba",
   "metadata": {},
   "outputs": [
    {
     "ename": "ZeroDivisionError",
     "evalue": "division by zero",
     "output_type": "error",
     "traceback": [
      "\u001b[0;31m---------------------------------------------------------------------------\u001b[0m",
      "\u001b[0;31mZeroDivisionError\u001b[0m                         Traceback (most recent call last)",
      "Cell \u001b[0;32mIn[39], line 1\u001b[0m\n\u001b[0;32m----> 1\u001b[0m \u001b[38;5;28;43;01mTrue\u001b[39;49;00m\u001b[38;5;241;43m/\u001b[39;49m\u001b[38;5;28;43;01mFalse\u001b[39;49;00m\n",
      "\u001b[0;31mZeroDivisionError\u001b[0m: division by zero"
     ]
    }
   ],
   "source": [
    "True/False"
   ]
  },
  {
   "cell_type": "code",
   "execution_count": 40,
   "id": "dead114a-b561-446b-a6e9-a20f77f1c1fc",
   "metadata": {},
   "outputs": [
    {
     "data": {
      "text/plain": [
       "0.0"
      ]
     },
     "execution_count": 40,
     "metadata": {},
     "output_type": "execute_result"
    }
   ],
   "source": [
    "False/True"
   ]
  },
  {
   "cell_type": "code",
   "execution_count": 41,
   "id": "35d998a8-9ea7-4c12-95ba-5dd3dce38ecd",
   "metadata": {},
   "outputs": [
    {
     "ename": "ZeroDivisionError",
     "evalue": "division by zero",
     "output_type": "error",
     "traceback": [
      "\u001b[0;31m---------------------------------------------------------------------------\u001b[0m",
      "\u001b[0;31mZeroDivisionError\u001b[0m                         Traceback (most recent call last)",
      "Cell \u001b[0;32mIn[41], line 1\u001b[0m\n\u001b[0;32m----> 1\u001b[0m \u001b[38;5;241;43m1\u001b[39;49m\u001b[38;5;241;43m/\u001b[39;49m\u001b[38;5;241;43m0\u001b[39;49m\n",
      "\u001b[0;31mZeroDivisionError\u001b[0m: division by zero"
     ]
    }
   ],
   "source": [
    "1/0"
   ]
  },
  {
   "cell_type": "code",
   "execution_count": 42,
   "id": "37aa6cfe-b80c-4e57-8fa5-823435787d5d",
   "metadata": {},
   "outputs": [
    {
     "data": {
      "text/plain": [
       "0.0"
      ]
     },
     "execution_count": 42,
     "metadata": {},
     "output_type": "execute_result"
    }
   ],
   "source": [
    "0/1"
   ]
  },
  {
   "cell_type": "code",
   "execution_count": 43,
   "id": "526d9186-bff7-427c-86ae-e00978fce67b",
   "metadata": {},
   "outputs": [],
   "source": [
    "h = 6 + 8j"
   ]
  },
  {
   "cell_type": "code",
   "execution_count": 44,
   "id": "87184fd6-b51c-43d1-9af7-a979314d4c97",
   "metadata": {},
   "outputs": [
    {
     "data": {
      "text/plain": [
       "(6+8j)"
      ]
     },
     "execution_count": 44,
     "metadata": {},
     "output_type": "execute_result"
    }
   ],
   "source": [
    "h"
   ]
  },
  {
   "cell_type": "code",
   "execution_count": 45,
   "id": "ea7dca2d-bd57-4ffa-bd92-d7e11eba4253",
   "metadata": {},
   "outputs": [
    {
     "data": {
      "text/plain": [
       "complex"
      ]
     },
     "execution_count": 45,
     "metadata": {},
     "output_type": "execute_result"
    }
   ],
   "source": [
    "type(h)"
   ]
  },
  {
   "cell_type": "code",
   "execution_count": 46,
   "id": "1ed26cd9-3037-4e74-b505-b4d4467d7764",
   "metadata": {},
   "outputs": [
    {
     "data": {
      "text/plain": [
       "8.0"
      ]
     },
     "execution_count": 46,
     "metadata": {},
     "output_type": "execute_result"
    }
   ],
   "source": [
    "h.imag"
   ]
  },
  {
   "cell_type": "code",
   "execution_count": 47,
   "id": "4df88476-107c-4b78-973a-824e2d04deaa",
   "metadata": {},
   "outputs": [
    {
     "data": {
      "text/plain": [
       "6.0"
      ]
     },
     "execution_count": 47,
     "metadata": {},
     "output_type": "execute_result"
    }
   ],
   "source": [
    "h.real"
   ]
  },
  {
   "cell_type": "code",
   "execution_count": 48,
   "id": "46964e62-a340-47d3-b33b-bad063672f09",
   "metadata": {},
   "outputs": [
    {
     "data": {
      "text/plain": [
       "6.0"
      ]
     },
     "execution_count": 48,
     "metadata": {},
     "output_type": "execute_result"
    }
   ],
   "source": [
    "h.real"
   ]
  },
  {
   "cell_type": "code",
   "execution_count": 50,
   "id": "b81c5fcd-f68c-406a-9dee-6438c0f4233e",
   "metadata": {},
   "outputs": [
    {
     "data": {
      "text/plain": [
       "8.0"
      ]
     },
     "execution_count": 50,
     "metadata": {},
     "output_type": "execute_result"
    }
   ],
   "source": [
    "h.imag"
   ]
  },
  {
   "cell_type": "code",
   "execution_count": 51,
   "id": "6c07b7ce-1b4f-4f7a-a91d-917d71363ca5",
   "metadata": {},
   "outputs": [
    {
     "data": {
      "text/plain": [
       "<function complex.conjugate()>"
      ]
     },
     "execution_count": 51,
     "metadata": {},
     "output_type": "execute_result"
    }
   ],
   "source": [
    "h.conjugate"
   ]
  },
  {
   "cell_type": "code",
   "execution_count": 52,
   "id": "ad738376-03f1-4de1-9653-d69cf1009247",
   "metadata": {},
   "outputs": [
    {
     "data": {
      "text/plain": [
       "(6+8j)"
      ]
     },
     "execution_count": 52,
     "metadata": {},
     "output_type": "execute_result"
    }
   ],
   "source": [
    "h"
   ]
  },
  {
   "cell_type": "code",
   "execution_count": 53,
   "id": "8aa5d0f2-2d2d-4ed5-bddc-3c2c187b9a0e",
   "metadata": {},
   "outputs": [
    {
     "name": "stdout",
     "output_type": "stream",
     "text": [
      "i am anand\n"
     ]
    }
   ],
   "source": [
    "print('i am anand')"
   ]
  },
  {
   "cell_type": "code",
   "execution_count": 55,
   "id": "3361351f-5baf-4414-8e72-8b0237df4a3d",
   "metadata": {},
   "outputs": [
    {
     "name": "stdout",
     "output_type": "stream",
     "text": [
      "my self anand\n"
     ]
    }
   ],
   "source": [
    "print('my self anand')"
   ]
  },
  {
   "cell_type": "code",
   "execution_count": 57,
   "id": "742e3a5e-91fd-48b4-b0cc-9e78390553ab",
   "metadata": {},
   "outputs": [
    {
     "data": {
      "text/plain": [
       "str"
      ]
     },
     "execution_count": 57,
     "metadata": {},
     "output_type": "execute_result"
    }
   ],
   "source": [
    "type('i am anand')"
   ]
  },
  {
   "cell_type": "code",
   "execution_count": 58,
   "id": "4be493c8-291a-4461-8f41-cfbb6331091a",
   "metadata": {},
   "outputs": [
    {
     "name": "stdout",
     "output_type": "stream",
     "text": [
      "(6+8j)\n"
     ]
    }
   ],
   "source": [
    "print(h)"
   ]
  },
  {
   "cell_type": "code",
   "execution_count": 60,
   "id": "0af215fb-feff-446b-a11b-c013da4a5eb6",
   "metadata": {},
   "outputs": [],
   "source": [
    "g=567"
   ]
  },
  {
   "cell_type": "code",
   "execution_count": 61,
   "id": "6c7cc0ac-cf15-456a-90e6-3ba7439f92ca",
   "metadata": {},
   "outputs": [
    {
     "data": {
      "text/plain": [
       "567"
      ]
     },
     "execution_count": 61,
     "metadata": {},
     "output_type": "execute_result"
    }
   ],
   "source": [
    "g"
   ]
  },
  {
   "cell_type": "code",
   "execution_count": 62,
   "id": "d5a557ac-64f8-4125-a9cc-980cd0b84dc4",
   "metadata": {},
   "outputs": [
    {
     "data": {
      "text/plain": [
       "int"
      ]
     },
     "execution_count": 62,
     "metadata": {},
     "output_type": "execute_result"
    }
   ],
   "source": [
    "type(g)"
   ]
  },
  {
   "cell_type": "code",
   "execution_count": 63,
   "id": "35c56d91-d882-4557-a39e-a2e8596b947a",
   "metadata": {},
   "outputs": [
    {
     "name": "stdout",
     "output_type": "stream",
     "text": [
      "567\n"
     ]
    }
   ],
   "source": [
    "print(g)"
   ]
  },
  {
   "cell_type": "code",
   "execution_count": 69,
   "id": "9801876c-eda1-420e-8bfe-3a47a7f5c5c0",
   "metadata": {},
   "outputs": [],
   "source": [
    "v='pwskills'"
   ]
  },
  {
   "cell_type": "code",
   "execution_count": 67,
   "id": "9e59ef22-49d9-4f0d-a3cd-5fc37a5b6e09",
   "metadata": {},
   "outputs": [
    {
     "data": {
      "text/plain": [
       "str"
      ]
     },
     "execution_count": 67,
     "metadata": {},
     "output_type": "execute_result"
    }
   ],
   "source": [
    "type(v)"
   ]
  },
  {
   "cell_type": "code",
   "execution_count": 70,
   "id": "dff903bd-8168-4860-a32b-a19ab0e17559",
   "metadata": {},
   "outputs": [
    {
     "data": {
      "text/plain": [
       "'p'"
      ]
     },
     "execution_count": 70,
     "metadata": {},
     "output_type": "execute_result"
    }
   ],
   "source": [
    "v[0]"
   ]
  },
  {
   "cell_type": "code",
   "execution_count": 73,
   "id": "8416b021-5457-40f6-af4e-b5b48f546659",
   "metadata": {},
   "outputs": [
    {
     "data": {
      "text/plain": [
       "'s'"
      ]
     },
     "execution_count": 73,
     "metadata": {},
     "output_type": "execute_result"
    }
   ],
   "source": [
    "v[2]"
   ]
  },
  {
   "cell_type": "code",
   "execution_count": 74,
   "id": "cd277e22-af4d-436e-be5f-965d07a68fb7",
   "metadata": {},
   "outputs": [
    {
     "data": {
      "text/plain": [
       "'s'"
      ]
     },
     "execution_count": 74,
     "metadata": {},
     "output_type": "execute_result"
    }
   ],
   "source": [
    "v[-6]"
   ]
  },
  {
   "cell_type": "code",
   "execution_count": 75,
   "id": "43cfed25-1437-429f-b7a8-55a0bfb1884d",
   "metadata": {},
   "outputs": [
    {
     "data": {
      "text/plain": [
       "'l'"
      ]
     },
     "execution_count": 75,
     "metadata": {},
     "output_type": "execute_result"
    }
   ],
   "source": [
    "v[5]"
   ]
  },
  {
   "cell_type": "code",
   "execution_count": 76,
   "id": "da8450b7-a358-4ff5-a508-781526517c6e",
   "metadata": {},
   "outputs": [
    {
     "data": {
      "text/plain": [
       "'p'"
      ]
     },
     "execution_count": 76,
     "metadata": {},
     "output_type": "execute_result"
    }
   ],
   "source": [
    "v[-8]"
   ]
  },
  {
   "cell_type": "code",
   "execution_count": 77,
   "id": "21b63ecf-8ce2-4df5-a9c4-f9c29d4bbe7d",
   "metadata": {},
   "outputs": [
    {
     "data": {
      "text/plain": [
       "'s'"
      ]
     },
     "execution_count": 77,
     "metadata": {},
     "output_type": "execute_result"
    }
   ],
   "source": [
    "v[-6]"
   ]
  },
  {
   "cell_type": "code",
   "execution_count": 80,
   "id": "3e3e0b4c-1214-460d-a2b8-f707a123e1df",
   "metadata": {},
   "outputs": [
    {
     "data": {
      "text/plain": [
       "'pw'"
      ]
     },
     "execution_count": 80,
     "metadata": {},
     "output_type": "execute_result"
    }
   ],
   "source": [
    "v[0:2]"
   ]
  },
  {
   "cell_type": "code",
   "execution_count": 81,
   "id": "6b5a0877-d081-4a63-ae57-6fe442cc8bbd",
   "metadata": {},
   "outputs": [
    {
     "data": {
      "text/plain": [
       "'pws'"
      ]
     },
     "execution_count": 81,
     "metadata": {},
     "output_type": "execute_result"
    }
   ],
   "source": [
    "v[0:3]"
   ]
  },
  {
   "cell_type": "code",
   "execution_count": 82,
   "id": "bfa36f75-56f3-48b0-812a-5fee6adf85fb",
   "metadata": {},
   "outputs": [
    {
     "data": {
      "text/plain": [
       "'pwski'"
      ]
     },
     "execution_count": 82,
     "metadata": {},
     "output_type": "execute_result"
    }
   ],
   "source": [
    "v[0:5]"
   ]
  },
  {
   "cell_type": "code",
   "execution_count": 85,
   "id": "c962ec74-ea58-48ae-ad16-d72f4c024e33",
   "metadata": {},
   "outputs": [
    {
     "data": {
      "text/plain": [
       "'wskil'"
      ]
     },
     "execution_count": 85,
     "metadata": {},
     "output_type": "execute_result"
    }
   ],
   "source": [
    "v[1:6]"
   ]
  },
  {
   "cell_type": "code",
   "execution_count": 87,
   "id": "671ea7af-587e-4f7f-8995-a460041054ee",
   "metadata": {},
   "outputs": [
    {
     "data": {
      "text/plain": [
       "'pwskills'"
      ]
     },
     "execution_count": 87,
     "metadata": {},
     "output_type": "execute_result"
    }
   ],
   "source": [
    "v[0:8]"
   ]
  },
  {
   "cell_type": "code",
   "execution_count": 88,
   "id": "4af953a3-0cf7-4368-b306-4e7f099a29d7",
   "metadata": {},
   "outputs": [
    {
     "data": {
      "text/plain": [
       "'psil'"
      ]
     },
     "execution_count": 88,
     "metadata": {},
     "output_type": "execute_result"
    }
   ],
   "source": [
    "v[0:8:2]"
   ]
  },
  {
   "cell_type": "code",
   "execution_count": 89,
   "id": "2f5b6ec0-74b3-41d1-be0f-fcef57804493",
   "metadata": {},
   "outputs": [
    {
     "data": {
      "text/plain": [
       "'pkl'"
      ]
     },
     "execution_count": 89,
     "metadata": {},
     "output_type": "execute_result"
    }
   ],
   "source": [
    "v[0:8:3]"
   ]
  },
  {
   "cell_type": "code",
   "execution_count": 90,
   "id": "94cd4bc1-21ea-48c1-b140-8dd2a6c531e8",
   "metadata": {},
   "outputs": [
    {
     "data": {
      "text/plain": [
       "'pi'"
      ]
     },
     "execution_count": 90,
     "metadata": {},
     "output_type": "execute_result"
    }
   ],
   "source": [
    "v[0:8:4]"
   ]
  },
  {
   "cell_type": "code",
   "execution_count": 91,
   "id": "480b5e87-f608-46d2-b7fa-702f167fa0e5",
   "metadata": {},
   "outputs": [
    {
     "data": {
      "text/plain": [
       "'psil'"
      ]
     },
     "execution_count": 91,
     "metadata": {},
     "output_type": "execute_result"
    }
   ],
   "source": [
    "v[::2]"
   ]
  },
  {
   "cell_type": "code",
   "execution_count": 92,
   "id": "25cf4478-e638-43ba-9217-4601b2805a3c",
   "metadata": {},
   "outputs": [
    {
     "data": {
      "text/plain": [
       "'pkl'"
      ]
     },
     "execution_count": 92,
     "metadata": {},
     "output_type": "execute_result"
    }
   ],
   "source": [
    "v[::3]"
   ]
  },
  {
   "cell_type": "code",
   "execution_count": 93,
   "id": "ee5edd9e-3e65-4d1a-807a-d48abc06b1a8",
   "metadata": {},
   "outputs": [
    {
     "data": {
      "text/plain": [
       "'pi'"
      ]
     },
     "execution_count": 93,
     "metadata": {},
     "output_type": "execute_result"
    }
   ],
   "source": [
    "v[::4]"
   ]
  },
  {
   "cell_type": "code",
   "execution_count": 94,
   "id": "aa4cb30c-afc9-4e50-86da-760378373aad",
   "metadata": {},
   "outputs": [
    {
     "data": {
      "text/plain": [
       "'sil'"
      ]
     },
     "execution_count": 94,
     "metadata": {},
     "output_type": "execute_result"
    }
   ],
   "source": [
    "v[2::2]"
   ]
  },
  {
   "cell_type": "code",
   "execution_count": 95,
   "id": "36f7ed3b-2672-45d3-942f-b5a721e672d6",
   "metadata": {},
   "outputs": [
    {
     "data": {
      "text/plain": [
       "'kls'"
      ]
     },
     "execution_count": 95,
     "metadata": {},
     "output_type": "execute_result"
    }
   ],
   "source": [
    "v[3::2]"
   ]
  },
  {
   "cell_type": "code",
   "execution_count": 96,
   "id": "dd90a4ec-d1ac-4566-9a15-d258f21c1542",
   "metadata": {},
   "outputs": [
    {
     "data": {
      "text/plain": [
       "'kl'"
      ]
     },
     "execution_count": 96,
     "metadata": {},
     "output_type": "execute_result"
    }
   ],
   "source": [
    "v[3::3]"
   ]
  },
  {
   "cell_type": "code",
   "execution_count": 97,
   "id": "e947cead-d10a-4e44-945a-fdf2b933f915",
   "metadata": {},
   "outputs": [
    {
     "data": {
      "text/plain": [
       "'skills'"
      ]
     },
     "execution_count": 97,
     "metadata": {},
     "output_type": "execute_result"
    }
   ],
   "source": [
    "v[2::1]"
   ]
  },
  {
   "cell_type": "code",
   "execution_count": 98,
   "id": "93631042-a07d-4656-8129-4c1fc5275d25",
   "metadata": {},
   "outputs": [
    {
     "data": {
      "text/plain": [
       "'l'"
      ]
     },
     "execution_count": 98,
     "metadata": {},
     "output_type": "execute_result"
    }
   ],
   "source": [
    "v[6::3]"
   ]
  },
  {
   "cell_type": "code",
   "execution_count": 99,
   "id": "c22ba337-f82d-41d3-abea-bbe39b555f6b",
   "metadata": {},
   "outputs": [
    {
     "data": {
      "text/plain": [
       "'sllikswp'"
      ]
     },
     "execution_count": 99,
     "metadata": {},
     "output_type": "execute_result"
    }
   ],
   "source": [
    "v[::-1]"
   ]
  },
  {
   "cell_type": "code",
   "execution_count": 100,
   "id": "57717581-c22c-44e6-ad50-5e5603ee7f22",
   "metadata": {},
   "outputs": [
    {
     "data": {
      "text/plain": [
       "'siw'"
      ]
     },
     "execution_count": 100,
     "metadata": {},
     "output_type": "execute_result"
    }
   ],
   "source": [
    "v[::-3]"
   ]
  },
  {
   "cell_type": "code",
   "execution_count": 101,
   "id": "cc47ccc3-cfc5-4dad-91dd-bfc7cbdc15c2",
   "metadata": {},
   "outputs": [
    {
     "data": {
      "text/plain": [
       "'kw'"
      ]
     },
     "execution_count": 101,
     "metadata": {},
     "output_type": "execute_result"
    }
   ],
   "source": [
    "v[3::-2]"
   ]
  },
  {
   "cell_type": "code",
   "execution_count": 104,
   "id": "5fb9f114-4ef0-4add-8f5c-4d00ddfbc800",
   "metadata": {},
   "outputs": [
    {
     "data": {
      "text/plain": [
       "'l'"
      ]
     },
     "execution_count": 104,
     "metadata": {},
     "output_type": "execute_result"
    }
   ],
   "source": [
    "v[-2::-7]"
   ]
  },
  {
   "cell_type": "code",
   "execution_count": 108,
   "id": "c3019690-0a08-48b9-a532-423e3bffd051",
   "metadata": {},
   "outputs": [
    {
     "data": {
      "text/plain": [
       "''"
      ]
     },
     "execution_count": 108,
     "metadata": {},
     "output_type": "execute_result"
    }
   ],
   "source": [
    "v[2:7:-1]"
   ]
  },
  {
   "cell_type": "code",
   "execution_count": 106,
   "id": "4861fcaa-a324-4b0c-9a92-4f19a2ce5615",
   "metadata": {},
   "outputs": [
    {
     "data": {
      "text/plain": [
       "'slliksw'"
      ]
     },
     "execution_count": 106,
     "metadata": {},
     "output_type": "execute_result"
    }
   ],
   "source": [
    "v[99:0:-1]"
   ]
  },
  {
   "cell_type": "code",
   "execution_count": 109,
   "id": "8bdb210a-61ac-46f3-a85a-f35af7ea7421",
   "metadata": {},
   "outputs": [
    {
     "data": {
      "text/plain": [
       "'k'"
      ]
     },
     "execution_count": 109,
     "metadata": {},
     "output_type": "execute_result"
    }
   ],
   "source": [
    "v[3:0:-4]"
   ]
  },
  {
   "cell_type": "code",
   "execution_count": 113,
   "id": "9e670215-39c6-41ed-890d-1bafc95710c2",
   "metadata": {},
   "outputs": [
    {
     "data": {
      "text/plain": [
       "''"
      ]
     },
     "execution_count": 113,
     "metadata": {},
     "output_type": "execute_result"
    }
   ],
   "source": [
    "v[8:0]"
   ]
  },
  {
   "cell_type": "code",
   "execution_count": 115,
   "id": "2a7161f5-4b54-4468-8a70-83df4192f4d5",
   "metadata": {},
   "outputs": [
    {
     "data": {
      "text/plain": [
       "'siw'"
      ]
     },
     "execution_count": 115,
     "metadata": {},
     "output_type": "execute_result"
    }
   ],
   "source": [
    "v[8:0:-3]"
   ]
  },
  {
   "cell_type": "code",
   "execution_count": 119,
   "id": "715dcd3f-9d98-485f-bec5-7b6276bbfa75",
   "metadata": {},
   "outputs": [
    {
     "data": {
      "text/plain": [
       "'slliksw'"
      ]
     },
     "execution_count": 119,
     "metadata": {},
     "output_type": "execute_result"
    }
   ],
   "source": [
    "v[9:0:-1]"
   ]
  },
  {
   "cell_type": "code",
   "execution_count": 120,
   "id": "519b1d10-1390-4792-9e15-45fe4a00fa1c",
   "metadata": {},
   "outputs": [
    {
     "data": {
      "text/plain": [
       "'slliks'"
      ]
     },
     "execution_count": 120,
     "metadata": {},
     "output_type": "execute_result"
    }
   ],
   "source": [
    "v[8:1:-1]"
   ]
  },
  {
   "cell_type": "code",
   "execution_count": 121,
   "id": "75f8e622-81bc-4985-bdcc-ca8c8837d1c3",
   "metadata": {},
   "outputs": [
    {
     "data": {
      "text/plain": [
       "'sllikswp'"
      ]
     },
     "execution_count": 121,
     "metadata": {},
     "output_type": "execute_result"
    }
   ],
   "source": [
    "v[8::-1]"
   ]
  },
  {
   "cell_type": "code",
   "execution_count": 122,
   "id": "9028f6cc-34bd-4582-b412-5402fde50514",
   "metadata": {},
   "outputs": [
    {
     "data": {
      "text/plain": [
       "'sllikswp'"
      ]
     },
     "execution_count": 122,
     "metadata": {},
     "output_type": "execute_result"
    }
   ],
   "source": [
    "v[::-1]"
   ]
  },
  {
   "cell_type": "code",
   "execution_count": 123,
   "id": "53e91be7-f4cd-4e43-9bdf-3d65494a0b0d",
   "metadata": {},
   "outputs": [
    {
     "data": {
      "text/plain": [
       "'slliksw'"
      ]
     },
     "execution_count": 123,
     "metadata": {},
     "output_type": "execute_result"
    }
   ],
   "source": [
    "v[:-8:-1]"
   ]
  },
  {
   "cell_type": "code",
   "execution_count": 124,
   "id": "91de0efe-30aa-4e76-9519-a2e685386503",
   "metadata": {},
   "outputs": [
    {
     "data": {
      "text/plain": [
       "'pwskills'"
      ]
     },
     "execution_count": 124,
     "metadata": {},
     "output_type": "execute_result"
    }
   ],
   "source": [
    "v[:90:]"
   ]
  },
  {
   "cell_type": "code",
   "execution_count": 125,
   "id": "35fd5b89-e198-48e4-b2b0-faf7fcb6b9ed",
   "metadata": {},
   "outputs": [
    {
     "data": {
      "text/plain": [
       "''"
      ]
     },
     "execution_count": 125,
     "metadata": {},
     "output_type": "execute_result"
    }
   ],
   "source": [
    "v[:-90:]"
   ]
  },
  {
   "cell_type": "code",
   "execution_count": 126,
   "id": "fecd6ccc-41f3-4633-8cbd-28f1e1c611f0",
   "metadata": {},
   "outputs": [
    {
     "data": {
      "text/plain": [
       "'sllikswp'"
      ]
     },
     "execution_count": 126,
     "metadata": {},
     "output_type": "execute_result"
    }
   ],
   "source": [
    "v[:-90:-1]"
   ]
  },
  {
   "cell_type": "code",
   "execution_count": 128,
   "id": "4a163131-4bcd-4a29-a625-ebfe26a13f93",
   "metadata": {},
   "outputs": [],
   "source": [
    "b = 600"
   ]
  },
  {
   "cell_type": "code",
   "execution_count": 129,
   "id": "c519cafc-8388-4fe8-a222-9abc95ec2fcf",
   "metadata": {},
   "outputs": [
    {
     "data": {
      "text/plain": [
       "int"
      ]
     },
     "execution_count": 129,
     "metadata": {},
     "output_type": "execute_result"
    }
   ],
   "source": [
    "type(b)"
   ]
  },
  {
   "cell_type": "code",
   "execution_count": 130,
   "id": "d8cf3662-9311-43f4-9db3-857952870830",
   "metadata": {},
   "outputs": [
    {
     "data": {
      "text/plain": [
       "600"
      ]
     },
     "execution_count": 130,
     "metadata": {},
     "output_type": "execute_result"
    }
   ],
   "source": [
    "b"
   ]
  },
  {
   "cell_type": "code",
   "execution_count": 131,
   "id": "c2206bd1-c45f-4b93-be3c-2c21a9befdf2",
   "metadata": {},
   "outputs": [
    {
     "ename": "TypeError",
     "evalue": "'int' object is not subscriptable",
     "output_type": "error",
     "traceback": [
      "\u001b[0;31m---------------------------------------------------------------------------\u001b[0m",
      "\u001b[0;31mTypeError\u001b[0m                                 Traceback (most recent call last)",
      "Cell \u001b[0;32mIn[131], line 1\u001b[0m\n\u001b[0;32m----> 1\u001b[0m \u001b[43mb\u001b[49m\u001b[43m[\u001b[49m\u001b[38;5;241;43m0\u001b[39;49m\u001b[43m]\u001b[49m\n",
      "\u001b[0;31mTypeError\u001b[0m: 'int' object is not subscriptable"
     ]
    }
   ],
   "source": [
    "b[0]"
   ]
  },
  {
   "cell_type": "code",
   "execution_count": 134,
   "id": "7a055231-d5bd-4a33-bd01-189949acfbe1",
   "metadata": {},
   "outputs": [],
   "source": [
    "d1 = 'this is my string class'"
   ]
  },
  {
   "cell_type": "code",
   "execution_count": 135,
   "id": "172fc1af-bc22-445e-8111-2ed51a749f48",
   "metadata": {},
   "outputs": [
    {
     "data": {
      "text/plain": [
       "'this is my string class'"
      ]
     },
     "execution_count": 135,
     "metadata": {},
     "output_type": "execute_result"
    }
   ],
   "source": [
    "d1"
   ]
  },
  {
   "cell_type": "code",
   "execution_count": 136,
   "id": "6d9b2667-dfdc-444f-ad2b-d78524743bd4",
   "metadata": {},
   "outputs": [
    {
     "data": {
      "text/plain": [
       "str"
      ]
     },
     "execution_count": 136,
     "metadata": {},
     "output_type": "execute_result"
    }
   ],
   "source": [
    "type(d1)"
   ]
  },
  {
   "cell_type": "code",
   "execution_count": 137,
   "id": "6f3159df-60e0-4663-a5e5-2d5825cfea13",
   "metadata": {},
   "outputs": [
    {
     "data": {
      "text/plain": [
       "23"
      ]
     },
     "execution_count": 137,
     "metadata": {},
     "output_type": "execute_result"
    }
   ],
   "source": [
    "len(d1)"
   ]
  },
  {
   "cell_type": "code",
   "execution_count": 149,
   "id": "5e6f0d16-4209-4c49-b000-be80e91c6fe9",
   "metadata": {},
   "outputs": [],
   "source": [
    "g1 = 'india is my country'"
   ]
  },
  {
   "cell_type": "code",
   "execution_count": 150,
   "id": "e1b278c1-a139-4f59-ab93-7e296554c367",
   "metadata": {},
   "outputs": [
    {
     "data": {
      "text/plain": [
       "19"
      ]
     },
     "execution_count": 150,
     "metadata": {},
     "output_type": "execute_result"
    }
   ],
   "source": [
    "len(g1)"
   ]
  },
  {
   "cell_type": "code",
   "execution_count": 151,
   "id": "ef46005a-6c77-41eb-84b9-5e4936469ec5",
   "metadata": {},
   "outputs": [
    {
     "data": {
      "text/plain": [
       "7"
      ]
     },
     "execution_count": 151,
     "metadata": {},
     "output_type": "execute_result"
    }
   ],
   "source": [
    "g1.find('s')"
   ]
  },
  {
   "cell_type": "code",
   "execution_count": 152,
   "id": "df824410-7aa6-479f-96e4-b7b16a083a47",
   "metadata": {},
   "outputs": [
    {
     "data": {
      "text/plain": [
       "10"
      ]
     },
     "execution_count": 152,
     "metadata": {},
     "output_type": "execute_result"
    }
   ],
   "source": [
    "g1.find('y')"
   ]
  },
  {
   "cell_type": "code",
   "execution_count": 154,
   "id": "8509cdd8-955b-418f-9216-cf0636669a8a",
   "metadata": {},
   "outputs": [
    {
     "data": {
      "text/plain": [
       "9"
      ]
     },
     "execution_count": 154,
     "metadata": {},
     "output_type": "execute_result"
    }
   ],
   "source": [
    "g1.find(\"my\")"
   ]
  },
  {
   "cell_type": "code",
   "execution_count": 155,
   "id": "ef67caf2-11dd-42fa-9d59-6e8e91d95d73",
   "metadata": {},
   "outputs": [
    {
     "ename": "TypeError",
     "evalue": "str.capitalize() takes no arguments (1 given)",
     "output_type": "error",
     "traceback": [
      "\u001b[0;31m---------------------------------------------------------------------------\u001b[0m",
      "\u001b[0;31mTypeError\u001b[0m                                 Traceback (most recent call last)",
      "Cell \u001b[0;32mIn[155], line 1\u001b[0m\n\u001b[0;32m----> 1\u001b[0m \u001b[43mg1\u001b[49m\u001b[38;5;241;43m.\u001b[39;49m\u001b[43mcapitalize\u001b[49m\u001b[43m(\u001b[49m\u001b[38;5;124;43m'\u001b[39;49m\u001b[38;5;124;43my\u001b[39;49m\u001b[38;5;124;43m'\u001b[39;49m\u001b[43m)\u001b[49m\n",
      "\u001b[0;31mTypeError\u001b[0m: str.capitalize() takes no arguments (1 given)"
     ]
    }
   ],
   "source": [
    "g1.capitalize('y')"
   ]
  },
  {
   "cell_type": "code",
   "execution_count": 156,
   "id": "def28265-fb48-4bd4-9d21-c4e85fa7787a",
   "metadata": {},
   "outputs": [
    {
     "data": {
      "text/plain": [
       "2"
      ]
     },
     "execution_count": 156,
     "metadata": {},
     "output_type": "execute_result"
    }
   ],
   "source": [
    "g1.count('y')"
   ]
  },
  {
   "cell_type": "code",
   "execution_count": 157,
   "id": "b478857a-4f9f-46f2-93ba-8e11654876d9",
   "metadata": {},
   "outputs": [
    {
     "data": {
      "text/plain": [
       "'india is my country'"
      ]
     },
     "execution_count": 157,
     "metadata": {},
     "output_type": "execute_result"
    }
   ],
   "source": [
    "g1"
   ]
  },
  {
   "cell_type": "code",
   "execution_count": 160,
   "id": "c9975f12-e978-41de-a834-20f0be07c377",
   "metadata": {},
   "outputs": [
    {
     "data": {
      "text/plain": [
       "1"
      ]
     },
     "execution_count": 160,
     "metadata": {},
     "output_type": "execute_result"
    }
   ],
   "source": [
    "g1.count('india')"
   ]
  },
  {
   "cell_type": "code",
   "execution_count": 161,
   "id": "bc68735a-f634-4f86-9618-1b03e3f844a7",
   "metadata": {},
   "outputs": [
    {
     "data": {
      "text/plain": [
       "'INDIA IS MY COUNTRY'"
      ]
     },
     "execution_count": 161,
     "metadata": {},
     "output_type": "execute_result"
    }
   ],
   "source": [
    "g1.upper()"
   ]
  },
  {
   "cell_type": "code",
   "execution_count": 164,
   "id": "f8c26def-553d-4523-91d0-38893517034e",
   "metadata": {},
   "outputs": [
    {
     "data": {
      "text/plain": [
       "'india is my country'"
      ]
     },
     "execution_count": 164,
     "metadata": {},
     "output_type": "execute_result"
    }
   ],
   "source": [
    "g1"
   ]
  },
  {
   "cell_type": "code",
   "execution_count": 165,
   "id": "c3b889ee-f6f9-4c6f-9603-e4478c1a5806",
   "metadata": {},
   "outputs": [
    {
     "data": {
      "text/plain": [
       "'India Is My Country'"
      ]
     },
     "execution_count": 165,
     "metadata": {},
     "output_type": "execute_result"
    }
   ],
   "source": [
    "g1.title()"
   ]
  },
  {
   "cell_type": "code",
   "execution_count": 166,
   "id": "a3aaaff1-3e03-4348-8040-4941211655a5",
   "metadata": {},
   "outputs": [
    {
     "data": {
      "text/plain": [
       "'India is my country'"
      ]
     },
     "execution_count": 166,
     "metadata": {},
     "output_type": "execute_result"
    }
   ],
   "source": [
    "g1.capitalize()"
   ]
  },
  {
   "cell_type": "code",
   "execution_count": 167,
   "id": "4a3c53c9-1c93-4703-90e8-6568fa533a14",
   "metadata": {},
   "outputs": [
    {
     "data": {
      "text/plain": [
       "'india is my country'"
      ]
     },
     "execution_count": 167,
     "metadata": {},
     "output_type": "execute_result"
    }
   ],
   "source": [
    "g1.casefold()"
   ]
  },
  {
   "cell_type": "code",
   "execution_count": 168,
   "id": "2bde1692-f957-4aca-afff-b4068263ab1e",
   "metadata": {},
   "outputs": [
    {
     "ename": "TypeError",
     "evalue": "center expected at least 1 argument, got 0",
     "output_type": "error",
     "traceback": [
      "\u001b[0;31m---------------------------------------------------------------------------\u001b[0m",
      "\u001b[0;31mTypeError\u001b[0m                                 Traceback (most recent call last)",
      "Cell \u001b[0;32mIn[168], line 1\u001b[0m\n\u001b[0;32m----> 1\u001b[0m \u001b[43mg1\u001b[49m\u001b[38;5;241;43m.\u001b[39;49m\u001b[43mcenter\u001b[49m\u001b[43m(\u001b[49m\u001b[43m)\u001b[49m\n",
      "\u001b[0;31mTypeError\u001b[0m: center expected at least 1 argument, got 0"
     ]
    }
   ],
   "source": [
    "g1.center()"
   ]
  },
  {
   "cell_type": "code",
   "execution_count": 169,
   "id": "0231d454-d859-4277-878e-050b0c2cbe77",
   "metadata": {},
   "outputs": [
    {
     "data": {
      "text/plain": [
       "b'india is my country'"
      ]
     },
     "execution_count": 169,
     "metadata": {},
     "output_type": "execute_result"
    }
   ],
   "source": [
    "g1.encode()"
   ]
  },
  {
   "cell_type": "code",
   "execution_count": 170,
   "id": "c75d97f1-f667-4540-af8e-58f059902cde",
   "metadata": {},
   "outputs": [
    {
     "ename": "TypeError",
     "evalue": "can only concatenate str (not \"int\") to str",
     "output_type": "error",
     "traceback": [
      "\u001b[0;31m---------------------------------------------------------------------------\u001b[0m",
      "\u001b[0;31mTypeError\u001b[0m                                 Traceback (most recent call last)",
      "Cell \u001b[0;32mIn[170], line 1\u001b[0m\n\u001b[0;32m----> 1\u001b[0m \u001b[43mv\u001b[49m\u001b[43m \u001b[49m\u001b[38;5;241;43m+\u001b[39;49m\u001b[43m \u001b[49m\u001b[38;5;241;43m1\u001b[39;49m\n",
      "\u001b[0;31mTypeError\u001b[0m: can only concatenate str (not \"int\") to str"
     ]
    }
   ],
   "source": [
    "v + 1"
   ]
  },
  {
   "cell_type": "code",
   "execution_count": 178,
   "id": "de2fd863-625e-44a7-b32e-6d8088e6b498",
   "metadata": {},
   "outputs": [
    {
     "data": {
      "text/plain": [
       "'pwskills anan'"
      ]
     },
     "execution_count": 178,
     "metadata": {},
     "output_type": "execute_result"
    }
   ],
   "source": [
    "v + \" anan\""
   ]
  },
  {
   "cell_type": "code",
   "execution_count": 180,
   "id": "478ef562-8ef7-4859-8644-229177a6cbfc",
   "metadata": {},
   "outputs": [
    {
     "data": {
      "text/plain": [
       "'pwskills 2'"
      ]
     },
     "execution_count": 180,
     "metadata": {},
     "output_type": "execute_result"
    }
   ],
   "source": [
    "v + ' 2'"
   ]
  },
  {
   "cell_type": "code",
   "execution_count": 183,
   "id": "e196370e-2ea5-4f90-9be9-4265ff53cac7",
   "metadata": {},
   "outputs": [
    {
     "data": {
      "text/plain": [
       "'pwskillspwskillspwskills'"
      ]
     },
     "execution_count": 183,
     "metadata": {},
     "output_type": "execute_result"
    }
   ],
   "source": [
    "v * 3"
   ]
  },
  {
   "cell_type": "code",
   "execution_count": 184,
   "id": "da94ee65-a69d-486b-8824-3d9317ea1b7a",
   "metadata": {},
   "outputs": [
    {
     "ename": "TypeError",
     "evalue": "unsupported operand type(s) for /: 'str' and 'int'",
     "output_type": "error",
     "traceback": [
      "\u001b[0;31m---------------------------------------------------------------------------\u001b[0m",
      "\u001b[0;31mTypeError\u001b[0m                                 Traceback (most recent call last)",
      "Cell \u001b[0;32mIn[184], line 1\u001b[0m\n\u001b[0;32m----> 1\u001b[0m \u001b[38;5;124;43m'\u001b[39;49m\u001b[38;5;124;43manan\u001b[39;49m\u001b[38;5;124;43m'\u001b[39;49m\u001b[43m \u001b[49m\u001b[38;5;241;43m/\u001b[39;49m\u001b[43m \u001b[49m\u001b[38;5;241;43m4\u001b[39;49m\n",
      "\u001b[0;31mTypeError\u001b[0m: unsupported operand type(s) for /: 'str' and 'int'"
     ]
    }
   ],
   "source": [
    "'anan' / 4"
   ]
  },
  {
   "cell_type": "code",
   "execution_count": 186,
   "id": "e7e825c9-a0d8-4892-b54b-2e8e6527ca2e",
   "metadata": {},
   "outputs": [
    {
     "ename": "TypeError",
     "evalue": "unsupported operand type(s) for +: 'int' and 'str'",
     "output_type": "error",
     "traceback": [
      "\u001b[0;31m---------------------------------------------------------------------------\u001b[0m",
      "\u001b[0;31mTypeError\u001b[0m                                 Traceback (most recent call last)",
      "Cell \u001b[0;32mIn[186], line 1\u001b[0m\n\u001b[0;32m----> 1\u001b[0m \u001b[38;5;241;43m2\u001b[39;49m\u001b[43m \u001b[49m\u001b[38;5;241;43m+\u001b[39;49m\u001b[43m \u001b[49m\u001b[38;5;124;43m\"\u001b[39;49m\u001b[38;5;124;43manan\u001b[39;49m\u001b[38;5;124;43m\"\u001b[39;49m\n",
      "\u001b[0;31mTypeError\u001b[0m: unsupported operand type(s) for +: 'int' and 'str'"
     ]
    }
   ],
   "source": [
    "2 + \"anan\""
   ]
  },
  {
   "cell_type": "code",
   "execution_count": 188,
   "id": "c698f4bf-65f8-428f-bb43-3e739e99f9ed",
   "metadata": {},
   "outputs": [],
   "source": [
    "x = 'anan'"
   ]
  },
  {
   "cell_type": "code",
   "execution_count": 189,
   "id": "00546a14-c13c-4410-b1c2-3e8386c57ad3",
   "metadata": {},
   "outputs": [
    {
     "data": {
      "text/plain": [
       "'anan'"
      ]
     },
     "execution_count": 189,
     "metadata": {},
     "output_type": "execute_result"
    }
   ],
   "source": [
    "x"
   ]
  },
  {
   "cell_type": "code",
   "execution_count": 191,
   "id": "1cd4aa89-a86c-4c7b-b888-5c6cf4f537b7",
   "metadata": {},
   "outputs": [
    {
     "data": {
      "text/plain": [
       "'anan 2'"
      ]
     },
     "execution_count": 191,
     "metadata": {},
     "output_type": "execute_result"
    }
   ],
   "source": [
    "x + ' 2'"
   ]
  },
  {
   "cell_type": "code",
   "execution_count": 2,
   "id": "67c46631-7ac3-4a89-8759-2eb1e8e742c6",
   "metadata": {},
   "outputs": [
    {
     "data": {
      "text/plain": [
       "\"don't do copy and paste in my class\""
      ]
     },
     "execution_count": 2,
     "metadata": {},
     "output_type": "execute_result"
    }
   ],
   "source": [
    "\"don't do copy and paste in my class\""
   ]
  },
  {
   "cell_type": "code",
   "execution_count": 12,
   "id": "c42e756d-b1fc-4b3f-824a-c62c07e261d6",
   "metadata": {},
   "outputs": [
    {
     "data": {
      "text/plain": [
       "'this is my first class for pragramming\\ni have learnt variable declaration, data type, string, int, boolean, complex number\\ni have seen some example of string slicing and indexing\\ni have gone though some of the string inbuilt function\\napart from that i an trying to practice in my system\\nbut some of us in our class are not executing and still they are answering which is bad '"
      ]
     },
     "execution_count": 12,
     "metadata": {},
     "output_type": "execute_result"
    }
   ],
   "source": [
    "\"\"\"this is my first class for pragramming\n",
    "i have learnt variable declaration, data type, string, int, boolean, complex number\n",
    "i have seen some example of string slicing and indexing\n",
    "i have gone though some of the string inbuilt function\n",
    "apart from that i an trying to practice in my system\n",
    "but some of us in our class are not executing and still they are answering which is bad \"\"\""
   ]
  },
  {
   "cell_type": "code",
   "execution_count": 14,
   "id": "4289486a-e829-4d37-99fd-048991b5dbe5",
   "metadata": {},
   "outputs": [],
   "source": [
    "#this is my first class for pragramming\n",
    "#i have learnt variable declaration, data type, string, int, boolean, complex number\n",
    "#i have seen some example of string slicing and indexing\n",
    "#i have gone though some of the string inbuilt function\n",
    "#apart from that i an trying to practice in my system\n",
    "#but some of us in our class are not executing and still they are answering which is bad"
   ]
  },
  {
   "cell_type": "code",
   "execution_count": null,
   "id": "61729581-2dbc-4969-8f56-86eaf5454072",
   "metadata": {},
   "outputs": [],
   "source": []
  }
 ],
 "metadata": {
  "kernelspec": {
   "display_name": "Python 3 (ipykernel)",
   "language": "python",
   "name": "python3"
  },
  "language_info": {
   "codemirror_mode": {
    "name": "ipython",
    "version": 3
   },
   "file_extension": ".py",
   "mimetype": "text/x-python",
   "name": "python",
   "nbconvert_exporter": "python",
   "pygments_lexer": "ipython3",
   "version": "3.10.8"
  },
  "toc-autonumbering": false,
  "toc-showmarkdowntxt": true,
  "toc-showtags": false
 },
 "nbformat": 4,
 "nbformat_minor": 5
}
